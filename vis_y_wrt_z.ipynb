{
 "cells": [
  {
   "cell_type": "markdown",
   "metadata": {},
   "source": [
    "Load a selected ground truth trajectory from test set, \n",
    "load the model,\n",
    "make several predictions with different z's (need to refactor part of agentformer.py still)\n",
    "Visualize them in one figure."
   ]
  },
  {
   "cell_type": "code",
   "execution_count": 6,
   "metadata": {},
   "outputs": [],
   "source": [
    "epochs = [20]\n",
    "seed = 42\n",
    "model_id = 'agentformer'\n"
   ]
  },
  {
   "cell_type": "code",
   "execution_count": 7,
   "metadata": {},
   "outputs": [],
   "source": [
    "import numpy as np\n",
    "import os\n",
    "import sys\n",
    "import torch\n",
    "\n",
    "from data.dataloader import data_generator\n",
    "from utils.torch import *\n",
    "from utils.config import Config\n",
    "from model.model_lib import model_dict\n",
    "from utils.utils import prepare_seed, print_log, mkdir_if_missing\n",
    "import yaml\n",
    "\n",
    "\n",
    "def parse_config_yaml(config_file):\n",
    "    with open(config_file, 'r') as file:\n",
    "        config = yaml.safe_load(file)\n",
    "    return config\n",
    "# Example usage\n",
    "config_file = \"cfg/eth_ucy/eth/twop_eth_agentformer_pre.yml\"\n",
    "parsed_config = parse_config_yaml(config_file)\n",
    "from easydict import EasyDict\n",
    "# Convert the parsed YAML configuration dictionary to an object\n",
    "cfg = EasyDict(parsed_config)\n",
    "\n",
    "log = open(os.path.join('./test/visualize', 'log_test.txt'), 'w')"
   ]
  },
  {
   "cell_type": "code",
   "execution_count": 8,
   "metadata": {},
   "outputs": [
    {
     "data": {
      "text/plain": [
       "<torch.autograd.grad_mode.set_grad_enabled at 0x7257a02a4190>"
      ]
     },
     "execution_count": 8,
     "metadata": {},
     "output_type": "execute_result"
    }
   ],
   "source": [
    "torch.set_default_dtype(torch.float32)\n",
    "device = torch.device('cuda', index=0) if torch.cuda.is_available() else torch.device('cpu')\n",
    "if torch.cuda.is_available(): torch.cuda.set_device(0)    \n",
    "torch.set_grad_enabled(False)"
   ]
  },
  {
   "cell_type": "code",
   "execution_count": 9,
   "metadata": {},
   "outputs": [],
   "source": [
    "cfg_root_dir = './results/twop_eth_agentformer_pre'\n",
    "cfg_dir = '%s' % cfg_root_dir\n",
    "model_dir = '%s/models' % cfg_dir\n",
    "result_dir = '%s/results' % cfg_dir\n",
    "log_dir = '%s/log' % cfg_dir\n",
    "tb_dir = '%s/tb' % cfg_dir\n",
    "model_path = os.path.join(model_dir, 'model_%04d.p')\n"
   ]
  },
  {
   "cell_type": "code",
   "execution_count": 10,
   "metadata": {},
   "outputs": [
    {
     "name": "stdout",
     "output_type": "stream",
     "text": [
      "AgentFormer in  beta  mode.\n",
      "FutureEncoder in  beta  mode.\n",
      "FutureDecoder in  beta  mode.\n",
      "loading model from checkpoint: ./results/twop_eth_agentformer_pre/models/model_0020.p\n"
     ]
    }
   ],
   "source": [
    "prepare_seed(seed)\n",
    "\n",
    "\"\"\" Model \"\"\"\n",
    "model = model_dict[model_id](cfg)\n",
    "model.set_device(device)\n",
    "model.eval()\n",
    "\n",
    "\"\"\" Load checkpoint \"\"\"\n",
    "\n",
    "for epoch in epochs:\n",
    "    if epoch > 0:\n",
    "        cp_path = model_path % epoch\n",
    "        print_log(f'loading model from checkpoint: {cp_path}', log, display=True)\n",
    "        model_cp = torch.load(cp_path, map_location='cpu')\n",
    "        model.load_state_dict(model_cp['model_dict'], strict=False)\n"
   ]
  },
  {
   "cell_type": "code",
   "execution_count": 13,
   "metadata": {},
   "outputs": [],
   "source": [
    "def get_model_prediction(data, sample_k):\n",
    "    model.set_data(data)\n",
    "    recon_motion_3D, _ = model.inference(mode='recon', sample_num=sample_k)\n",
    "    sample_motion_3D, data = model.inference(mode='infer', sample_num=sample_k, need_weights=False)\n",
    "    sample_motion_3D = sample_motion_3D.transpose(0, 1).contiguous()\n",
    "    return recon_motion_3D, sample_motion_3D\n",
    "\n",
    "def save_prediction(pred, data, suffix, save_dir):\n",
    "    pred_num = 0\n",
    "    pred_arr = []\n",
    "    fut_data, seq_name, frame, valid_id, pred_mask = data['fut_data'], data['seq'], data['frame'], data['valid_id'], data['pred_mask']\n",
    "\n",
    "    for i in range(len(valid_id)):    # number of agents\n",
    "        identity = valid_id[i]\n",
    "        if pred_mask is not None and pred_mask[i] != 1.0:\n",
    "            continue\n",
    "\n",
    "        \"\"\"future frames\"\"\"\n",
    "        for j in range(cfg.future_frames):\n",
    "            cur_data = fut_data[j]\n",
    "            if len(cur_data) > 0 and identity in cur_data[:, 1]:\n",
    "                data = cur_data[cur_data[:, 1] == identity].squeeze()\n",
    "            else:\n",
    "                data = most_recent_data.copy()\n",
    "                data[0] = frame + j + 1\n",
    "            data[[13, 15]] = pred[i, j].cpu().numpy()   # [13, 15] corresponds to 2D pos\n",
    "            most_recent_data = data.copy()\n",
    "            pred_arr.append(data)\n",
    "        pred_num += 1\n",
    "\n",
    "    if len(pred_arr) > 0:\n",
    "        pred_arr = np.vstack(pred_arr)\n",
    "        indices = [0, 1, 13, 15]            # frame, ID, x, z (remove y which is the height)\n",
    "        pred_arr = pred_arr[:, indices]\n",
    "        # save results\n",
    "        fname = f'{save_dir}/{seq_name}/frame_{int(frame):06d}{suffix}.txt'\n",
    "        mkdir_if_missing(fname)\n",
    "        np.savetxt(fname, pred_arr, fmt=\"%.3f\")\n",
    "    return pred_num\n",
    "\n",
    "def test_model(generator, save_dir, cfg):\n",
    "    total_num_pred = 0\n",
    "    while not generator.is_epoch_end():\n",
    "        data = generator()\n",
    "        if data is None:\n",
    "            continue\n",
    "        seq_name, frame = data['seq'], data['frame']\n",
    "        frame = int(frame)\n",
    "        sys.stdout.write('testing seq: %s, frame: %06d                \\r' % (seq_name, frame))  \n",
    "        sys.stdout.flush()\n",
    "\n",
    "        gt_motion_3D = torch.stack(data['fut_motion_3D'], dim=0).to(device) * cfg.traj_scale\n",
    "        with torch.no_grad():\n",
    "            recon_motion_3D, sample_motion_3D = get_model_prediction(data, cfg.sample_k)\n",
    "        recon_motion_3D, sample_motion_3D = recon_motion_3D * cfg.traj_scale, sample_motion_3D * cfg.traj_scale\n",
    "\n",
    "        \"\"\"save samples\"\"\"\n",
    "        recon_dir = os.path.join(save_dir, 'recon'); mkdir_if_missing(recon_dir)\n",
    "        sample_dir = os.path.join(save_dir, 'samples'); mkdir_if_missing(sample_dir)\n",
    "        gt_dir = os.path.join(save_dir, 'gt'); mkdir_if_missing(gt_dir)\n",
    "        for i in range(sample_motion_3D.shape[0]):\n",
    "            save_prediction(sample_motion_3D[i], data, f'/sample_{i:03d}', sample_dir)\n",
    "        save_prediction(recon_motion_3D, data, '', recon_dir)        # save recon\n",
    "        num_pred = save_prediction(gt_motion_3D, data, '', gt_dir)              # save gt\n",
    "        total_num_pred += num_pred\n",
    "\n",
    "    print_log(f'\\n\\n total_num_pred: {total_num_pred}', log)\n",
    "    if cfg.dataset == 'nuscenes_pred':\n",
    "        scene_num = {\n",
    "            'train': 32186,\n",
    "            'val': 8560,\n",
    "            'test': 9041\n",
    "        }\n",
    "        assert total_num_pred == scene_num[generator.split]\n"
   ]
  },
  {
   "cell_type": "code",
   "execution_count": 15,
   "metadata": {},
   "outputs": [
    {
     "name": "stdout",
     "output_type": "stream",
     "text": [
      "\n",
      "-------------------------- loading test data --------------------------\n",
      "loading sequence biwi_eth ...\n",
      "total num samples: 1142\n",
      "------------------------------ done --------------------------------\n",
      "\n",
      "testing seq: biwi_eth, frame: 001226                \n",
      "\n",
      " total_num_pred: 364\n"
     ]
    }
   ],
   "source": [
    "data_split = ['test']\n",
    "\n",
    "for split in data_split:\n",
    "    dataloader = data_generator(cfg, log, split=split, phase='testing')\n",
    "    save_dir = f'{result_dir}/epoch_{epoch:04d}/{split}'; mkdir_if_missing(save_dir)\n",
    "    eval_dir = f'{save_dir}/samples'\n",
    "           \n",
    "    # for i, data in enumerate(dataloader):\n",
    "    test_model(dataloader, save_dir, cfg)\n",
    "    "
   ]
  }
 ],
 "metadata": {
  "kernelspec": {
   "display_name": "af",
   "language": "python",
   "name": "python3"
  },
  "language_info": {
   "codemirror_mode": {
    "name": "ipython",
    "version": 3
   },
   "file_extension": ".py",
   "mimetype": "text/x-python",
   "name": "python",
   "nbconvert_exporter": "python",
   "pygments_lexer": "ipython3",
   "version": "3.7.16"
  }
 },
 "nbformat": 4,
 "nbformat_minor": 2
}
