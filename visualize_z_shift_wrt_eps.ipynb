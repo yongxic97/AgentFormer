{
 "cells": [
  {
   "cell_type": "markdown",
   "metadata": {},
   "source": [
    "Extract a,b,z files from csvs."
   ]
  },
  {
   "cell_type": "code",
   "execution_count": null,
   "metadata": {},
   "outputs": [],
   "source": [
    "import numpy as np\n",
    "\n",
    "num_checkpoints = 50    # 2*i for i in range (2,100,2)\n",
    "bs = 364                # samples in eth test set (LOO)\n",
    "nz = 2                  # latent dim\n",
    "\n",
    "latents_root_dir = './test/z_data/0419_0103_take1'\n",
    "# 0419_010{5/3/6/1}_take{1/2/3}\n",
    "# In total should get 3*4 = 12 results.\n",
    "\n",
    "a_prior = "
   ]
  }
 ],
 "metadata": {
  "language_info": {
   "name": "python"
  }
 },
 "nbformat": 4,
 "nbformat_minor": 2
}
